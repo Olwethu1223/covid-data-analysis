{
 "cells": [
  {
   "cell_type": "code",
   "execution_count": 5,
   "id": "89afc02c-da40-46b5-80d8-d0bcdcf4a369",
   "metadata": {},
   "outputs": [],
   "source": [
    "import pandas as pd"
   ]
  },
  {
   "cell_type": "code",
   "execution_count": 6,
   "id": "b17b45a0-aa92-4343-a058-17c91e5a8d5e",
   "metadata": {},
   "outputs": [],
   "source": [
    "file_path = 'owid-covid-data.csv'"
   ]
  },
  {
   "cell_type": "code",
   "execution_count": 7,
   "id": "8162d2b2-9512-47b4-b0bd-d5189e53e926",
   "metadata": {},
   "outputs": [],
   "source": [
    "covid_df = pd.read_csv(file_path)"
   ]
  },
  {
   "cell_type": "code",
   "execution_count": 8,
   "id": "1e70df3a-1a0a-4af8-b3f7-0515caf16af2",
   "metadata": {},
   "outputs": [
    {
     "name": "stdout",
     "output_type": "stream",
     "text": [
      "  iso_code continent     location        date  total_cases  new_cases  \\\n",
      "0      AFG      Asia  Afghanistan  2020-01-03          NaN        0.0   \n",
      "1      AFG      Asia  Afghanistan  2020-01-04          NaN        0.0   \n",
      "2      AFG      Asia  Afghanistan  2020-01-05          NaN        0.0   \n",
      "3      AFG      Asia  Afghanistan  2020-01-06          NaN        0.0   \n",
      "4      AFG      Asia  Afghanistan  2020-01-07          NaN        0.0   \n",
      "\n",
      "   new_cases_smoothed  total_deaths  new_deaths  new_deaths_smoothed  ...  \\\n",
      "0                 NaN           NaN         0.0                  NaN  ...   \n",
      "1                 NaN           NaN         0.0                  NaN  ...   \n",
      "2                 NaN           NaN         0.0                  NaN  ...   \n",
      "3                 NaN           NaN         0.0                  NaN  ...   \n",
      "4                 NaN           NaN         0.0                  NaN  ...   \n",
      "\n",
      "   male_smokers  handwashing_facilities  hospital_beds_per_thousand  \\\n",
      "0           NaN                  37.746                         0.5   \n",
      "1           NaN                  37.746                         0.5   \n",
      "2           NaN                  37.746                         0.5   \n",
      "3           NaN                  37.746                         0.5   \n",
      "4           NaN                  37.746                         0.5   \n",
      "\n",
      "   life_expectancy  human_development_index  population  \\\n",
      "0            64.83                    0.511  41128772.0   \n",
      "1            64.83                    0.511  41128772.0   \n",
      "2            64.83                    0.511  41128772.0   \n",
      "3            64.83                    0.511  41128772.0   \n",
      "4            64.83                    0.511  41128772.0   \n",
      "\n",
      "   excess_mortality_cumulative_absolute  excess_mortality_cumulative  \\\n",
      "0                                   NaN                          NaN   \n",
      "1                                   NaN                          NaN   \n",
      "2                                   NaN                          NaN   \n",
      "3                                   NaN                          NaN   \n",
      "4                                   NaN                          NaN   \n",
      "\n",
      "   excess_mortality  excess_mortality_cumulative_per_million  \n",
      "0               NaN                                      NaN  \n",
      "1               NaN                                      NaN  \n",
      "2               NaN                                      NaN  \n",
      "3               NaN                                      NaN  \n",
      "4               NaN                                      NaN  \n",
      "\n",
      "[5 rows x 67 columns]\n"
     ]
    }
   ],
   "source": [
    "print(covid_df.head())"
   ]
  },
  {
   "cell_type": "raw",
   "id": "d97be3b5-c21b-46c2-adf2-d2048a2e1259",
   "metadata": {},
   "source": [
    "print(covid_df.info())"
   ]
  },
  {
   "cell_type": "code",
   "execution_count": 11,
   "id": "84004c06-c082-4f54-9f98-f774ce208683",
   "metadata": {},
   "outputs": [],
   "source": [
    "columns_of_interest = [ 'date', 'location', 'total_cases', 'new_cases', 'total_deaths', 'new_deaths', 'total_vaccinations', 'people_vaccinated', 'people_fully_vaccinated', 'population' ]"
   ]
  },
  {
   "cell_type": "code",
   "execution_count": 12,
   "id": "445054ea-0977-4a4b-88fa-5f3b44a0c6db",
   "metadata": {},
   "outputs": [],
   "source": [
    "covid_df = covid_df[columns_of_interest]"
   ]
  },
  {
   "cell_type": "code",
   "execution_count": 13,
   "id": "8e23603f-2f48-4907-8af1-703aaf3664dd",
   "metadata": {},
   "outputs": [],
   "source": [
    "covid_df['date'] = pd.to_datetime(covid_df['date'])"
   ]
  },
  {
   "cell_type": "code",
   "execution_count": 14,
   "id": "83349372-41be-4a11-bd70-b767fd59db7a",
   "metadata": {},
   "outputs": [],
   "source": [
    "countries_of_interest = ['Kenya', 'United States', 'India']"
   ]
  },
  {
   "cell_type": "code",
   "execution_count": 15,
   "id": "1eeaa5f2-72de-45e2-b225-6ac71c414442",
   "metadata": {},
   "outputs": [],
   "source": [
    "covid_df = covid_df[covid_df['location'].isin(countries_of_interest)]"
   ]
  },
  {
   "cell_type": "code",
   "execution_count": 16,
   "id": "25b81af7-2770-4c49-8fa0-d66b036d0957",
   "metadata": {},
   "outputs": [],
   "source": [
    "numeric_columns = ['total_cases', 'new_cases', 'total_deaths', 'new_deaths', 'total_vaccinations', 'people_vaccinated', 'people_fully_vaccinated']"
   ]
  },
  {
   "cell_type": "code",
   "execution_count": 17,
   "id": "95467a5d-e62d-4700-9167-86dcb3101fb2",
   "metadata": {},
   "outputs": [],
   "source": [
    "covid_df[numeric_columns] = covid_df[numeric_columns].fillna(0)"
   ]
  },
  {
   "cell_type": "code",
   "execution_count": 21,
   "id": "7b003679-f676-48c9-9f68-3e2411675e39",
   "metadata": {},
   "outputs": [],
   "source": [
    "cumulative_columns = ['total_cases', 'total_deaths', 'total_vaccinations', 'people_vaccinated', 'people_fully_vaccinated']"
   ]
  },
  {
   "cell_type": "code",
   "execution_count": 22,
   "id": "8c6f0631-4c27-4c8a-a011-f39421c181f8",
   "metadata": {},
   "outputs": [],
   "source": [
    "covid_df[cumulative_columns] = covid_df[cumulative_columns].ffill()"
   ]
  },
  {
   "cell_type": "code",
   "execution_count": 23,
   "id": "d01f7289-9d74-4985-b45a-4fb3886f8a98",
   "metadata": {},
   "outputs": [
    {
     "name": "stdout",
     "output_type": "stream",
     "text": [
      "             date location  total_cases  new_cases  total_deaths  new_deaths  \\\n",
      "120683 2020-01-03    India          0.0        0.0           0.0         0.0   \n",
      "120684 2020-01-04    India          0.0        0.0           0.0         0.0   \n",
      "120685 2020-01-05    India          0.0        0.0           0.0         0.0   \n",
      "120686 2020-01-06    India          0.0        0.0           0.0         0.0   \n",
      "120687 2020-01-07    India          0.0        0.0           0.0         0.0   \n",
      "\n",
      "        total_vaccinations  people_vaccinated  people_fully_vaccinated  \\\n",
      "120683                 0.0                0.0                      0.0   \n",
      "120684                 0.0                0.0                      0.0   \n",
      "120685                 0.0                0.0                      0.0   \n",
      "120686                 0.0                0.0                      0.0   \n",
      "120687                 0.0                0.0                      0.0   \n",
      "\n",
      "          population  \n",
      "120683  1.417173e+09  \n",
      "120684  1.417173e+09  \n",
      "120685  1.417173e+09  \n",
      "120686  1.417173e+09  \n",
      "120687  1.417173e+09  \n"
     ]
    }
   ],
   "source": [
    "print(covid_df.head())"
   ]
  },
  {
   "cell_type": "raw",
   "id": "af27a4bd-5eef-4776-a2d1-51d2b1ef2f46",
   "metadata": {},
   "source": [
    "print(covid_df.isnull().sum())"
   ]
  },
  {
   "cell_type": "code",
   "execution_count": 28,
   "id": "4573ee81-576d-4612-a898-ed3851c29289",
   "metadata": {},
   "outputs": [
    {
     "name": "stdout",
     "output_type": "stream",
     "text": [
      "/home/089ff42b-d70e-45a2-b48a-56c83a9e2a61/Covid Data Analysis\n"
     ]
    }
   ],
   "source": [
    "import os\n",
    "print(os.getcwd())"
   ]
  },
  {
   "cell_type": "code",
   "execution_count": 31,
   "id": "67ad1dc4-8a04-4065-a083-5eb62e7aeb7c",
   "metadata": {},
   "outputs": [],
   "source": [
    "data_path = 'owid-covid-data.csv'"
   ]
  },
  {
   "cell_type": "code",
   "execution_count": 32,
   "id": "04dbfe27-77cf-410c-8d63-98d70eaabc4c",
   "metadata": {},
   "outputs": [
    {
     "name": "stdout",
     "output_type": "stream",
     "text": [
      "/home/089ff42b-d70e-45a2-b48a-56c83a9e2a61/Covid Data Analysis\n",
      "['analysis_outputs', 'covid analysis.ipynb', 'owid-covid-data.csv', '__pycache__', '.ipynb_checkpoints', 'eda.py']\n"
     ]
    }
   ],
   "source": [
    "import os\n",
    "print(os.getcwd())\n",
    "print(os.listdir())"
   ]
  },
  {
   "cell_type": "code",
   "execution_count": 42,
   "id": "433fba6f-a9c9-476e-9ceb-e430152a459b",
   "metadata": {},
   "outputs": [
    {
     "name": "stdout",
     "output_type": "stream",
     "text": [
      "  File \"/home/089ff42b-d70e-45a2-b48a-56c83a9e2a61/Covid Data Analysis/eda.py\", line 207\n",
      "    )\n",
      "    ^\n",
      "SyntaxError: unmatched ')'\n"
     ]
    }
   ],
   "source": [
    "!python eda.py"
   ]
  },
  {
   "cell_type": "code",
   "execution_count": null,
   "id": "8b2e4b03-b399-4b62-ac3e-2393bd542b7b",
   "metadata": {},
   "outputs": [],
   "source": []
  }
 ],
 "metadata": {
  "kernelspec": {
   "display_name": "anaconda-2024.02-py310",
   "language": "python",
   "name": "conda-env-anaconda-2024.02-py310-py"
  },
  "language_info": {
   "codemirror_mode": {
    "name": "ipython",
    "version": 3
   },
   "file_extension": ".py",
   "mimetype": "text/x-python",
   "name": "python",
   "nbconvert_exporter": "python",
   "pygments_lexer": "ipython3",
   "version": "3.10.14"
  }
 },
 "nbformat": 4,
 "nbformat_minor": 5
}
